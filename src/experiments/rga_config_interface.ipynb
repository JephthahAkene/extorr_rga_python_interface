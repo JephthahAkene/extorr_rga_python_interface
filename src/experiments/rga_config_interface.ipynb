{
 "cells": [
  {
   "cell_type": "code",
   "execution_count": 36,
   "metadata": {},
   "outputs": [],
   "source": [
    "import os\n",
    "\n",
    "def read_file(file_name):\n",
    "    file_handle = open(file_name)\n",
    "    print(file_handle.read())\n",
    "    file_handle.close()\n",
    "file_dir = os.path.dirname(os.path.realpath('__file__'))\n",
    "\n",
    "#For accessing the file inside a sibling folder.\n",
    "file_name = os.path.join(file_dir, '../hardware_config_xml/sample_rga_config.cfg')\n",
    "file_name = os.path.abspath(os.path.realpath(file_name))\n",
    "\n",
    "file_name_2 = os.path.join(file_dir, '../hardware_config_xml/sample_rga_config.xml')\n",
    "file_name_2 = os.path.abspath(os.path.realpath(file_name_2))\n"
   ]
  },
  {
   "cell_type": "code",
   "execution_count": 9,
   "metadata": {},
   "outputs": [
    {
     "name": "stdout",
     "output_type": "stream",
     "text": [
      "<Element 'ConfigurationData' at 0x10d588220>\n"
     ]
    }
   ],
   "source": [
    "import xml.etree.ElementTree as ET\n",
    "\n",
    "# parsing directly.\n",
    "tree = ET.parse(file_name)\n",
    "root = tree.getroot()\n",
    "\n",
    "# printing the root.\n",
    "print(root)\n"
   ]
  },
  {
   "cell_type": "code",
   "execution_count": 7,
   "metadata": {},
   "outputs": [
    {
     "name": "stdout",
     "output_type": "stream",
     "text": [
      "<Element 'ConfigurationData' at 0x10d7f0400>\n"
     ]
    }
   ],
   "source": [
    "print(root)"
   ]
  },
  {
   "cell_type": "code",
   "execution_count": 12,
   "metadata": {},
   "outputs": [
    {
     "name": "stdout",
     "output_type": "stream",
     "text": [
      "{}\n"
     ]
    }
   ],
   "source": [
    "print(root.attrib)"
   ]
  },
  {
   "cell_type": "code",
   "execution_count": 13,
   "metadata": {},
   "outputs": [
    {
     "name": "stdout",
     "output_type": "stream",
     "text": [
      "CommunicationParameters {'Port': 'COM2', 'Baud': '115200', 'PacketFrequency': '5.0', 'PacketTimeout': '1.0', 'CommunicationsType': '1', 'UserFrequency': '5.0', 'UserTimeout': '1.0', 'NamedPort': ''}\n",
      "ConfigurationParameters {'Filename': 'C:\\\\Users\\\\icelabact\\\\Documents\\\\EXTORR\\\\sn6495_factory_cal.cfg', 'TimeStamp': '07e5000400030015000a0036001e0361', 'DateTime': '4/21/2021 10:54:30 AM', 'Caption': '6495', 'Serial': '6495', 'Model': '300'}\n",
      "ScanParameters {'ScanSpeed': '48', 'LowMass': '1', 'HighMass': '100', 'SamplesPerAMU': '10'}\n",
      "OperatingParameters {'Mode': 'Mass sweep', 'Focus1': '-20', 'Focus2': '-68', 'ElectronEnergy': '70', 'FilamentEmission': '2.5', 'AutoZero': 'Off', 'ScanMode': 'Sweep', 'Filament': '0', 'PressureUnits': 'Torr', 'EnableElectronMultiplier': '1', 'MultiplierVoltage': '1300', 'FilamentForceOffStartup': '0'}\n",
      "CalibrationParameters {'LowCalMass': '1', 'LowCalResolution': '625', 'LowCalPosition': '0.34', 'LowCalIonEnergy': '5.0', 'HighCalMass': '300', 'HighCalResolution': '2095', 'HighCalPosition': '0.10', 'HighCalIonEnergy': '5.0', 'TotalAmpOffset': '2000', 'PartialAmpOffset': '2001', 'TotalIntegratingCap': '10.00', 'PartialIntegratingCap': '3.00', 'RFSettleTime': '50', 'SWSettleTime': '10', 'Pirani1ATM': '1.93800', 'PiraniZero': '0.29200', 'PiraniAutoRecalibrate': '0', 'PartialSensitivity': '6.00e-004', 'TotalSensitivity': '1.00e+001', 'debug': '0'}\n",
      "LogFileParameters {'Mode': '1', 'FileName': 'Y:\\\\CLASSE 357\\\\RGA mass sweeps 2021\\\\4-12-2021 RGA_background_no_rotary stage_no_Janis_nstalled..csv', 'DirectoryName': 'Y:\\\\CLASSE 357\\\\DATA\\\\2020\\\\September\\\\20200910\\\\20200910_Ambient_Chamber_CH4leakinchamber', 'CreationOption': '3', 'NSweeps': '20', 'FileRecordingOn': '0'}\n",
      "MassTableParameters {'Samples': '100', 'AudioOutput': '0'}\n",
      "PrintingParameters {'InvertColors': '1', 'ShowConfigurationFile': '1', 'ShowDescription': '1', 'ShowTotalPressure': '1', 'ShowPiraniPressure': '1', 'DateFormat': '', 'TimeFormat': ''}\n",
      "GraphParametersData {}\n",
      "WindowParameters {}\n",
      "PlotParameters {'BkColor': 'Black', 'LineColor': 'Red', 'ScanColor': 'Lime', 'MouseWheel': '0', 'LogYAxis': '1'}\n"
     ]
    }
   ],
   "source": [
    "for child in root:\n",
    "    print(child.tag, child.attrib)"
   ]
  },
  {
   "cell_type": "code",
   "execution_count": 14,
   "metadata": {},
   "outputs": [
    {
     "name": "stdout",
     "output_type": "stream",
     "text": [
      "<built-in method iter of xml.etree.ElementTree.Element object at 0x10d588220>\n"
     ]
    }
   ],
   "source": [
    "print(root.iter)"
   ]
  },
  {
   "cell_type": "code",
   "execution_count": 15,
   "metadata": {},
   "outputs": [
    {
     "data": {
      "text/plain": [
       "<function Element.iter(tag=None)>"
      ]
     },
     "execution_count": 15,
     "metadata": {},
     "output_type": "execute_result"
    }
   ],
   "source": [
    "root.iter"
   ]
  },
  {
   "cell_type": "code",
   "execution_count": 16,
   "metadata": {},
   "outputs": [
    {
     "name": "stdout",
     "output_type": "stream",
     "text": [
      "<Element 'ConfigurationParameters' at 0x10dc70130>\n"
     ]
    }
   ],
   "source": [
    "for prams in root.iter('ConfigurationParameters'):\n",
    "    print(prams)"
   ]
  },
  {
   "cell_type": "code",
   "execution_count": 17,
   "metadata": {},
   "outputs": [
    {
     "name": "stdout",
     "output_type": "stream",
     "text": [
      "CommunicationParameters {'Port': 'COM2', 'Baud': '115200', 'PacketFrequency': '5.0', 'PacketTimeout': '1.0', 'CommunicationsType': '1', 'UserFrequency': '5.0', 'UserTimeout': '1.0', 'NamedPort': ''}\n",
      "ConfigurationParameters {'Filename': 'C:\\\\Users\\\\icelabact\\\\Documents\\\\EXTORR\\\\sn6495_factory_cal.cfg', 'TimeStamp': '07e5000400030015000a0036001e0361', 'DateTime': '4/21/2021 10:54:30 AM', 'Caption': '6495', 'Serial': '6495', 'Model': '300'}\n",
      "ScanParameters {'ScanSpeed': '48', 'LowMass': '1', 'HighMass': '100', 'SamplesPerAMU': '10'}\n",
      "OperatingParameters {'Mode': 'Mass sweep', 'Focus1': '-20', 'Focus2': '-68', 'ElectronEnergy': '70', 'FilamentEmission': '2.5', 'AutoZero': 'Off', 'ScanMode': 'Sweep', 'Filament': '0', 'PressureUnits': 'Torr', 'EnableElectronMultiplier': '1', 'MultiplierVoltage': '1300', 'FilamentForceOffStartup': '0'}\n",
      "CalibrationParameters {'LowCalMass': '1', 'LowCalResolution': '625', 'LowCalPosition': '0.34', 'LowCalIonEnergy': '5.0', 'HighCalMass': '300', 'HighCalResolution': '2095', 'HighCalPosition': '0.10', 'HighCalIonEnergy': '5.0', 'TotalAmpOffset': '2000', 'PartialAmpOffset': '2001', 'TotalIntegratingCap': '10.00', 'PartialIntegratingCap': '3.00', 'RFSettleTime': '50', 'SWSettleTime': '10', 'Pirani1ATM': '1.93800', 'PiraniZero': '0.29200', 'PiraniAutoRecalibrate': '0', 'PartialSensitivity': '6.00e-004', 'TotalSensitivity': '1.00e+001', 'debug': '0'}\n",
      "LogFileParameters {'Mode': '1', 'FileName': 'Y:\\\\CLASSE 357\\\\RGA mass sweeps 2021\\\\4-12-2021 RGA_background_no_rotary stage_no_Janis_nstalled..csv', 'DirectoryName': 'Y:\\\\CLASSE 357\\\\DATA\\\\2020\\\\September\\\\20200910\\\\20200910_Ambient_Chamber_CH4leakinchamber', 'CreationOption': '3', 'NSweeps': '20', 'FileRecordingOn': '0'}\n",
      "MassTableParameters {'Samples': '100', 'AudioOutput': '0'}\n",
      "PrintingParameters {'InvertColors': '1', 'ShowConfigurationFile': '1', 'ShowDescription': '1', 'ShowTotalPressure': '1', 'ShowPiraniPressure': '1', 'DateFormat': '', 'TimeFormat': ''}\n",
      "GraphParametersData {}\n",
      "WindowParameters {}\n",
      "PlotParameters {'BkColor': 'Black', 'LineColor': 'Red', 'ScanColor': 'Lime', 'MouseWheel': '0', 'LogYAxis': '1'}\n"
     ]
    }
   ],
   "source": [
    "for child in root:\n",
    "    print(child.tag, child.attrib)"
   ]
  },
  {
   "cell_type": "code",
   "execution_count": 18,
   "metadata": {},
   "outputs": [
    {
     "data": {
      "text/plain": [
       "['ConfigurationData',\n",
       " 'CommunicationParameters',\n",
       " 'ConfigurationParameters',\n",
       " 'ScanParameters',\n",
       " 'OperatingParameters',\n",
       " 'CalibrationParameters',\n",
       " 'LogFileParameters',\n",
       " 'MassTableParameters',\n",
       " 'Mass1',\n",
       " 'Mass2',\n",
       " 'Mass3',\n",
       " 'Mass4',\n",
       " 'Mass5',\n",
       " 'Mass6',\n",
       " 'Mass7',\n",
       " 'Mass8',\n",
       " 'PrintingParameters',\n",
       " 'GraphParametersData',\n",
       " 'GraphParameters',\n",
       " 'Y-Axis',\n",
       " 'GraphParameters',\n",
       " 'Y-Axis',\n",
       " 'WindowParameters',\n",
       " 'Frame',\n",
       " 'Setup',\n",
       " 'Main',\n",
       " 'PlotParameters']"
      ]
     },
     "execution_count": 18,
     "metadata": {},
     "output_type": "execute_result"
    }
   ],
   "source": [
    "# Explore the elements in the entire tree\n",
    "# This gives a general notion for how many \n",
    "# elements you have, but it does not show\n",
    "# the attributes or levels in the tree.\n",
    "\n",
    "[elem.tag for elem in root.iter()]"
   ]
  },
  {
   "cell_type": "code",
   "execution_count": 19,
   "metadata": {},
   "outputs": [
    {
     "name": "stdout",
     "output_type": "stream",
     "text": [
      "{'Filename': 'C:\\\\Users\\\\icelabact\\\\Documents\\\\EXTORR\\\\sn6495_factory_cal.cfg', 'TimeStamp': '07e5000400030015000a0036001e0361', 'DateTime': '4/21/2021 10:54:30 AM', 'Caption': '6495', 'Serial': '6495', 'Model': '300'}\n"
     ]
    }
   ],
   "source": [
    "for ConfigurationParameters in root.iter('ConfigurationParameters'):\n",
    "    print(ConfigurationParameters.attrib)"
   ]
  },
  {
   "cell_type": "code",
   "execution_count": 22,
   "metadata": {},
   "outputs": [
    {
     "name": "stdout",
     "output_type": "stream",
     "text": [
      "{'ScanSpeed': '48', 'LowMass': '1', 'HighMass': '100', 'SamplesPerAMU': '10'}\n"
     ]
    }
   ],
   "source": [
    "for ScanParameters in root.iter('ScanParameters'):\n",
    "    print(ScanParameters.attrib)"
   ]
  },
  {
   "cell_type": "code",
   "execution_count": 28,
   "metadata": {},
   "outputs": [
    {
     "name": "stdout",
     "output_type": "stream",
     "text": [
      "<Element 'ScanParameters' at 0x10dc70180>\n"
     ]
    }
   ],
   "source": [
    "b2tf = root.find(\"./ScanParameters[@ScanSpeed='48']\")\n",
    "print(b2tf)"
   ]
  },
  {
   "cell_type": "code",
   "execution_count": 29,
   "metadata": {},
   "outputs": [
    {
     "name": "stdout",
     "output_type": "stream",
     "text": [
      "{'ScanSpeed': 'Back to the Future', 'LowMass': '1', 'HighMass': '100', 'SamplesPerAMU': '10'}\n"
     ]
    }
   ],
   "source": [
    "b2tf.attrib[\"ScanSpeed\"] = \"Back to the Future\"\n",
    "print(b2tf.attrib)"
   ]
  },
  {
   "cell_type": "code",
   "execution_count": 30,
   "metadata": {},
   "outputs": [
    {
     "name": "stdout",
     "output_type": "stream",
     "text": [
      "CommunicationParameters {'Port': 'COM2', 'Baud': '115200', 'PacketFrequency': '5.0', 'PacketTimeout': '1.0', 'CommunicationsType': '1', 'UserFrequency': '5.0', 'UserTimeout': '1.0', 'NamedPort': ''}\n",
      "ConfigurationParameters {'Filename': 'C:\\\\Users\\\\icelabact\\\\Documents\\\\EXTORR\\\\sn6495_factory_cal.cfg', 'TimeStamp': '07e5000400030015000a0036001e0361', 'DateTime': '4/21/2021 10:54:30 AM', 'Caption': '6495', 'Serial': '6495', 'Model': '300'}\n",
      "ScanParameters {'ScanSpeed': 'Back to the Future', 'LowMass': '1', 'HighMass': '100', 'SamplesPerAMU': '10'}\n",
      "OperatingParameters {'Mode': 'Mass sweep', 'Focus1': '-20', 'Focus2': '-68', 'ElectronEnergy': '70', 'FilamentEmission': '2.5', 'AutoZero': 'Off', 'ScanMode': 'Sweep', 'Filament': '0', 'PressureUnits': 'Torr', 'EnableElectronMultiplier': '1', 'MultiplierVoltage': '1300', 'FilamentForceOffStartup': '0'}\n",
      "CalibrationParameters {'LowCalMass': '1', 'LowCalResolution': '625', 'LowCalPosition': '0.34', 'LowCalIonEnergy': '5.0', 'HighCalMass': '300', 'HighCalResolution': '2095', 'HighCalPosition': '0.10', 'HighCalIonEnergy': '5.0', 'TotalAmpOffset': '2000', 'PartialAmpOffset': '2001', 'TotalIntegratingCap': '10.00', 'PartialIntegratingCap': '3.00', 'RFSettleTime': '50', 'SWSettleTime': '10', 'Pirani1ATM': '1.93800', 'PiraniZero': '0.29200', 'PiraniAutoRecalibrate': '0', 'PartialSensitivity': '6.00e-004', 'TotalSensitivity': '1.00e+001', 'debug': '0'}\n",
      "LogFileParameters {'Mode': '1', 'FileName': 'Y:\\\\CLASSE 357\\\\RGA mass sweeps 2021\\\\4-12-2021 RGA_background_no_rotary stage_no_Janis_nstalled..csv', 'DirectoryName': 'Y:\\\\CLASSE 357\\\\DATA\\\\2020\\\\September\\\\20200910\\\\20200910_Ambient_Chamber_CH4leakinchamber', 'CreationOption': '3', 'NSweeps': '20', 'FileRecordingOn': '0'}\n",
      "MassTableParameters {'Samples': '100', 'AudioOutput': '0'}\n",
      "PrintingParameters {'InvertColors': '1', 'ShowConfigurationFile': '1', 'ShowDescription': '1', 'ShowTotalPressure': '1', 'ShowPiraniPressure': '1', 'DateFormat': '', 'TimeFormat': ''}\n",
      "GraphParametersData {}\n",
      "WindowParameters {}\n",
      "PlotParameters {'BkColor': 'Black', 'LineColor': 'Red', 'ScanColor': 'Lime', 'MouseWheel': '0', 'LogYAxis': '1'}\n"
     ]
    }
   ],
   "source": [
    "for child in root:\n",
    "    print(child.tag, child.attrib)"
   ]
  },
  {
   "cell_type": "code",
   "execution_count": 31,
   "metadata": {},
   "outputs": [
    {
     "name": "stdout",
     "output_type": "stream",
     "text": [
      "{'ScanSpeed': '48', 'LowMass': '1', 'HighMass': '100', 'SamplesPerAMU': '10'}\n"
     ]
    }
   ],
   "source": [
    "b2tf.attrib[\"ScanSpeed\"] = \"48\"\n",
    "print(b2tf.attrib)"
   ]
  }
 ],
 "metadata": {
  "kernelspec": {
   "display_name": "Python 3.10.2 64-bit",
   "language": "python",
   "name": "python3"
  },
  "language_info": {
   "codemirror_mode": {
    "name": "ipython",
    "version": 3
   },
   "file_extension": ".py",
   "mimetype": "text/x-python",
   "name": "python",
   "nbconvert_exporter": "python",
   "pygments_lexer": "ipython3",
   "version": "3.10.2"
  },
  "orig_nbformat": 4,
  "vscode": {
   "interpreter": {
    "hash": "949777d72b0d2535278d3dc13498b2535136f6dfe0678499012e853ee9abcab1"
   }
  }
 },
 "nbformat": 4,
 "nbformat_minor": 2
}
